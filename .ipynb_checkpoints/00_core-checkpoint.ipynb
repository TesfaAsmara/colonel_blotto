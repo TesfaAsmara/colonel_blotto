{
 "cells": [
  {
   "cell_type": "markdown",
   "metadata": {},
   "source": [
    "# core\n",
    "\n",
    "> first notebook"
   ]
  },
  {
   "cell_type": "code",
   "execution_count": null,
   "metadata": {},
   "outputs": [],
   "source": [
    "#| default_exp core"
   ]
  },
  {
   "cell_type": "code",
   "execution_count": 3,
   "metadata": {},
   "outputs": [],
   "source": [
    "# note to self: using treehacks env\n",
    "import csv\n",
    "import itertools\n",
    "import json\n",
    "\n",
    "def sums(length, total_sum):\n",
    "    if length == 1:\n",
    "        yield (total_sum,)\n",
    "    else:\n",
    "        for value in range(total_sum + 1):\n",
    "            for permutation in sums(length - 1, total_sum - value):\n",
    "                yield (value,) + permutation\n",
    "\n",
    "def game(player1, player2, numCastles):\n",
    "    p1_score = 0\n",
    "    p2_score = 0\n",
    "    n = 0\n",
    "    p1_wbt = 0\n",
    "    p2_wbt = 0\n",
    "\n",
    "    while p1_wbt < 3 and p2_wbt < 3 and n < numCastles:\n",
    "        if player1[n] > player2[n]:\n",
    "            p1_score += n + 1\n",
    "            p1_wbt += 1\n",
    "            p2_wbt = 0\n",
    "        if player1[n] < player2[n]:\n",
    "            p2_score += n + 1\n",
    "            p2_wbt += 1\n",
    "            p1_wbt = 0\n",
    "        if player1[n] == player2[n]:\n",
    "            p1_wbt = 0\n",
    "            p2_wbt = 0\n",
    "        n += 1\n",
    "\n",
    "    while p1_wbt == 3 and n < numCastles:\n",
    "        p1_score += n + 1\n",
    "        n += 1\n",
    "    while p2_wbt == 3 and n < numCastles:\n",
    "        p2_score += n + 1\n",
    "        n += 1\n",
    "\n",
    "    if p1_score > p2_score:\n",
    "        return 1\n",
    "    if p1_score < p2_score:\n",
    "        return -1\n",
    "    if p1_score == p2_score:\n",
    "        return 0\n",
    "    \n",
    "def tournament(numTroops, numCastles):\n",
    "    strategies = list(sums(numCastles, numTroops))\n",
    "    competitors = {}\n",
    "    for allocation in strategies:\n",
    "        competitors[allocation] = [0, 0, 0]\n",
    "    file_data = []\n",
    "    highest_score = 0\n",
    "    gameMatrix = [[0 for i in range(len(strategies))] for j in range(len(strategies))]\n",
    "    for i, player1 in enumerate(competitors):\n",
    "        for j, player2 in enumerate(competitors):\n",
    "            result = game(player1, player2, numCastles)\n",
    "            gameMatrix[i][j] = result\n",
    "            if result == 1:\n",
    "                competitors[player1][0] += 1\n",
    "                competitors[player2][1] += 1\n",
    "            if result == -1:\n",
    "                competitors[player2][0] += 1\n",
    "                competitors[player1][1] += 1\n",
    "            else:\n",
    "                competitors[player1][2] += 1\n",
    "                competitors[player2][2] += 1\n",
    "    file_data.append(str(competitors))\n",
    "    file_data.append(str(gameMatrix))\n",
    "    filename = f\"C{numCastles:02}-T{numTroops:03}.txt\"\n",
    "\n",
    "    with open(filename, \"w\") as fle:\n",
    "        json.dump(file_data, fle)\n",
    "\n",
    "def csvtournament(numTroops, numCastles):\n",
    "    strategies = list(sums(numCastles, numTroops))\n",
    "    competitors = {}\n",
    "    for allocation in strategies:\n",
    "        competitors[allocation] = [0, 0, 0]\n",
    "    winners = []\n",
    "    highest_score = 0\n",
    "    gameMatrix = [[0 for i in range(len(strategies))] for j in range(len(strategies))] \n",
    "    for i, player1 in enumerate(competitors):\n",
    "        for j, player2 in enumerate(competitors):\n",
    "            result = game(player1, player2, numCastles)\n",
    "            gameMatrix[i][j] = result\n",
    "            if result == 1:\n",
    "                competitors[player1][0] += 1 # Player 1 win\n",
    "                competitors[player2][1] += 1 # Player 2 loss\n",
    "            if result == -1:\n",
    "                competitors[player2][0] += 1 # Player 2 win\n",
    "                competitors[player1][1] += 1 # Player 1 loss\n",
    "            if result == 0:\n",
    "                competitors[player1][2] += 1 # tie\n",
    "                competitors[player1][2] += 1 # tie\n",
    "    all_scores = competitors.values()\n",
    "    highest_score = max(all_scores)\n",
    "    for player in competitors:\n",
    "        if competitors[player] == highest_score:\n",
    "            winners.append(player)\n",
    "    print(gameMatrix)\n",
    "\n",
    "    fields = [\"win_percentile\"]\n",
    "    for i in range(1, numCastles + 1):\n",
    "        fields.append(\"c\" + str(i))\n",
    "    rows = []\n",
    "    for strategy in competitors:\n",
    "        profile = [(competitors[strategy][0]/competitors[strategy][0] + competitors[strategy][1] + competitors[strategy][2])]\n",
    "        for troops in strategy:\n",
    "            profile.append(troops)\n",
    "        rows.append(profile)\n",
    "    filename = 'csvBlotto, numCastles = ' + str(numCastles) + \", numTroops =\" + str(numTroops)\n",
    "    # writing to csv file\n",
    "    with open(filename, 'w') as csvfile:\n",
    "    # creating a csv writer object\n",
    "        csvwriter = csv.writer(csvfile)\n",
    "\n",
    "    # writing the fields\n",
    "        csvwriter.writerow(fields)\n",
    "\n",
    "    # writing the data rows\n",
    "        csvwriter.writerows(rows)"
   ]
  },
  {
   "cell_type": "code",
   "execution_count": null,
   "metadata": {},
   "outputs": [
    {
     "name": "stdout",
     "output_type": "stream",
     "text": [
      "Wed Nov 15 00:42:26 2023    cProfile_output\n",
      "\n",
      "         10643 function calls (10441 primitive calls) in 0.025 seconds\n",
      "\n",
      "   Ordered by: cumulative time\n",
      "   List reduced from 24 to 10 due to restriction <10>\n",
      "\n",
      "   ncalls  tottime  percall  cumtime  percall filename:lineno(function)\n",
      "        1    0.001    0.001    0.025    0.025 {built-in method builtins.exec}\n",
      "        1    0.000    0.000    0.025    0.025 <string>:1(<module>)\n",
      "        1    0.008    0.008    0.025    0.025 /var/folders/bc/1r_h18ps6_1d2rzw7czk83lw0000gn/T/ipykernel_13487/1097470000.py:48(tournament)\n",
      "    10201    0.012    0.000    0.012    0.000 /var/folders/bc/1r_h18ps6_1d2rzw7czk83lw0000gn/T/ipykernel_13487/1097470000.py:13(game)\n",
      "        1    0.000    0.000    0.003    0.003 /opt/homebrew/Caskroom/miniforge/base/envs/treehacks/lib/python3.9/site-packages/IPython/core/interactiveshell.py:273(_modified_open)\n",
      "        1    0.003    0.003    0.003    0.003 {built-in method io.open}\n",
      "        1    0.000    0.000    0.001    0.001 /var/folders/bc/1r_h18ps6_1d2rzw7czk83lw0000gn/T/ipykernel_13487/1097470000.py:55(<listcomp>)\n",
      "        1    0.000    0.000    0.001    0.001 /opt/homebrew/Caskroom/miniforge/base/envs/treehacks/lib/python3.9/json/__init__.py:120(dump)\n",
      "        3    0.001    0.000    0.001    0.000 {method 'write' of '_io.TextIOWrapper' objects}\n",
      "  304/102    0.000    0.000    0.000    0.000 /var/folders/bc/1r_h18ps6_1d2rzw7czk83lw0000gn/T/ipykernel_13487/1097470000.py:5(sums)\n",
      "\n",
      "\n"
     ]
    },
    {
     "data": {
      "text/plain": [
       "<pstats.Stats>"
      ]
     },
     "execution_count": null,
     "metadata": {},
     "output_type": "execute_result"
    }
   ],
   "source": [
    "import cProfile\n",
    "cProfile.run(\"tournament(numTroops=100, numCastles=2)\", 'cProfile_output')\n",
    "import pstats\n",
    "\n",
    "# create stats object\n",
    "p = pstats.Stats('cProfile_output')\n",
    "# sort the statistics by the cumulative time spent in the function\n",
    "p.sort_stats('cumulative').print_stats(10)"
   ]
  },
  {
   "cell_type": "markdown",
   "metadata": {},
   "source": [
    "to visualize interactively with snakeviz\n",
    "\n",
    "```shell\n",
    "   snakeviz cProfile_output\n",
    "```\n",
    "\n",
    "static, graph view with gprof2dot\n",
    "\n",
    "```shell\n",
    "gprof2dot -f pstats cProfile_output | dot -Tpng -o cProfile_output.png\n",
    "```"
   ]
  },
  {
   "cell_type": "code",
   "execution_count": null,
   "metadata": {},
   "outputs": [
    {
     "name": "stdout",
     "output_type": "stream",
     "text": [
      "Num Troops: 1, Game Times: 1.0967254638671875e-05, File Size: 63 bytes\n",
      "Num Troops: 2, Game Times: 6.9141387939453125e-06, File Size: 101 bytes\n",
      "Num Troops: 3, Game Times: 1.621246337890625e-05, File Size: 146 bytes\n",
      "Num Troops: 4, Game Times: 1.1920928955078125e-05, File Size: 198 bytes\n",
      "Num Troops: 5, Game Times: 2.7418136596679688e-05, File Size: 259 bytes\n",
      "Num Troops: 6, Game Times: 3.24249267578125e-05, File Size: 327 bytes\n",
      "Num Troops: 7, Game Times: 4.220008850097656e-05, File Size: 402 bytes\n",
      "Num Troops: 8, Game Times: 4.00543212890625e-05, File Size: 493 bytes\n",
      "Num Troops: 9, Game Times: 7.200241088867188e-05, File Size: 583 bytes\n",
      "Num Troops: 10, Game Times: 5.793571472167969e-05, File Size: 682 bytes\n"
     ]
    }
   ],
   "source": [
    "import time\n",
    "import os\n",
    "import json\n",
    "\n",
    "def tournament(numTroops, numCastles):\n",
    "    strategies = list(sums(numCastles, numTroops))\n",
    "    competitors = {allocation: [0, 0, 0] for allocation in strategies}\n",
    "    file_data = []\n",
    "    gameMatrix = [[0 for _ in range(len(strategies))] for _ in range(len(strategies))]\n",
    "    game_times = []  # list to store the duration of each game call\n",
    "\n",
    "    for i, player1 in enumerate(competitors):\n",
    "        for j, player2 in enumerate(competitors):\n",
    "            start_time = time.time()  # start time measurement\n",
    "            result = game(player1, player2, numCastles)\n",
    "            end_time = time.time()  # end time measurement\n",
    "            game_times.append(end_time - start_time)  # store the duration\n",
    "            gameMatrix[i][j] = result\n",
    "            if result == 1:\n",
    "                competitors[player1][0] += 1\n",
    "                competitors[player2][1] += 1\n",
    "            if result == -1:\n",
    "                competitors[player2][0] += 1\n",
    "                competitors[player1][1] += 1\n",
    "            else:\n",
    "                competitors[player1][2] += 1\n",
    "                competitors[player2][2] += 1\n",
    "\n",
    "    file_data.append(str(competitors))\n",
    "    file_data.append(str(gameMatrix))\n",
    "    filename = f\"C{numCastles:02}-T{numTroops:03}.txt\"\n",
    "\n",
    "    with open(filename, \"w\") as fle:\n",
    "        json.dump(file_data, fle)\n",
    "    \n",
    "    file_size = os.path.getsize(filename)  # get the size of the file\n",
    "\n",
    "    return game_times, file_size  # return the times and file size\n",
    "\n",
    "\n",
    "for numTroops in range(1, 11):\n",
    "    times, size = tournament(numTroops, 2)\n",
    "    print(f\"Num Troops: {numTroops}, Total Game Time: {sum(times)}, File Size: {size} bytes\")\n"
   ]
  },
  {
   "cell_type": "code",
   "execution_count": 4,
   "metadata": {},
   "outputs": [
    {
     "data": {
      "text/plain": [
       "176851"
      ]
     },
     "execution_count": 4,
     "metadata": {},
     "output_type": "execute_result"
    }
   ],
   "source": [
    "len(list(sums(4,100)))"
   ]
  },
  {
   "cell_type": "code",
   "execution_count": 1,
   "metadata": {},
   "outputs": [
    {
     "data": {
      "text/plain": [
       "99.89999999999999"
      ]
     },
     "execution_count": 1,
     "metadata": {},
     "output_type": "execute_result"
    }
   ],
   "source": [
    "0.3+2.9+6.5+7.5+21.1+7.1+8.6+6.6+4.7+4.1+4.5+4.6+4.3+4.2+4.9+5.5+2+0.5"
   ]
  },
  {
   "cell_type": "code",
   "execution_count": null,
   "metadata": {},
   "outputs": [],
   "source": []
  },
  {
   "cell_type": "code",
   "execution_count": null,
   "metadata": {},
   "outputs": [],
   "source": []
  }
 ],
 "metadata": {
  "kernelspec": {
   "display_name": "Python 3 (ipykernel)",
   "language": "python",
   "name": "python3"
  },
  "language_info": {
   "codemirror_mode": {
    "name": "ipython",
    "version": 3
   },
   "file_extension": ".py",
   "mimetype": "text/x-python",
   "name": "python",
   "nbconvert_exporter": "python",
   "pygments_lexer": "ipython3",
   "version": "3.11.5"
  }
 },
 "nbformat": 4,
 "nbformat_minor": 4
}
