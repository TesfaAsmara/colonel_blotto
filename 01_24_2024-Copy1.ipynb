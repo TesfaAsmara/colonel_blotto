{
 "cells": [
  {
   "cell_type": "code",
   "execution_count": 36,
   "id": "2328b27b-8322-4f06-97ec-dd18e23d822e",
   "metadata": {},
   "outputs": [
    {
     "name": "stderr",
     "output_type": "stream",
     "text": [
      "/tmp/ipykernel_4395/833866784.py:16: NumbaDeprecationWarning: \u001b[1mThe 'nopython' keyword argument was not supplied to the 'numba.jit' decorator. The implicit default value for this argument is currently False, but it will be changed to True in Numba 0.59.0. See https://numba.readthedocs.io/en/stable/reference/deprecation.html#deprecation-of-object-mode-fall-back-behaviour-when-using-jit for details.\u001b[0m\n",
      "  @jit\n"
     ]
    },
    {
     "data": {
      "text/plain": [
       "[None]"
      ]
     },
     "execution_count": 36,
     "metadata": {},
     "output_type": "execute_result"
    }
   ],
   "source": [
    "import os\n",
    "import json\n",
    "from joblib import Parallel, delayed\n",
    "from numba import jit\n",
    "import itertools\n",
    "\n",
    "\n",
    "def sums(length, total_sum):\n",
    "    if length == 1:\n",
    "        yield (total_sum,)\n",
    "    else:\n",
    "        for value in range(total_sum + 1):\n",
    "            for permutation in sums(length - 1, total_sum - value):\n",
    "                yield (value,) + permutation\n",
    "\n",
    "@jit\n",
    "def game_jit(player1, player2, numCastles):\n",
    "    '''\n",
    "    returns  1 if \n",
    "             0 if \n",
    "            -1 if\n",
    "            \n",
    "    Inputs\n",
    "        player1:\n",
    "        player2:\n",
    "        numCastles: \n",
    "\n",
    "    Variables\n",
    "        p1_score: ...\n",
    "        ...\n",
    "        \n",
    "    '''\n",
    "    p1_score = 0\n",
    "    p2_score = 0\n",
    "    n = 0\n",
    "    p1_wbt = 0\n",
    "    p2_wbt = 0\n",
    "\n",
    "    while p1_wbt < 3 and p2_wbt < 3 and n < numCastles:\n",
    "        if player1[n] > player2[n]:\n",
    "            p1_score += n + 1\n",
    "            p1_wbt += 1\n",
    "            p2_wbt = 0\n",
    "        if player1[n] < player2[n]:\n",
    "            p2_score += n + 1\n",
    "            p2_wbt += 1\n",
    "            p1_wbt = 0\n",
    "        if player1[n] == player2[n]:\n",
    "            p1_wbt = 0\n",
    "            p2_wbt = 0\n",
    "        n += 1\n",
    "\n",
    "    while p1_wbt == 3 and n < numCastles:\n",
    "        p1_score += n + 1\n",
    "        n += 1\n",
    "    while p2_wbt == 3 and n < numCastles:\n",
    "        p2_score += n + 1\n",
    "        n += 1\n",
    "\n",
    "    if p1_score > p2_score:\n",
    "        return 1\n",
    "    if p1_score < p2_score:\n",
    "        return -1\n",
    "    if p1_score == p2_score:\n",
    "        return 0\n",
    "\n",
    "def play_game(i, j, player1, player2, numCastles, numTroops):\n",
    "    result = game_jit(player1, player2, numCastles)\n",
    "\n",
    "    filename = f\"results/C{numCastles:02}_T{numTroops:03}/{i}_{j}_{result}.txt\"\n",
    "\n",
    "    file =  open(filename, \"w\")\n",
    "    file.close()\n",
    "    return\n",
    "\n",
    "def tournament(numCastles, numTroops):\n",
    "    strategies = list(sums(numCastles, numTroops))\n",
    "    foldername = f\"results/C{numCastles:02}_T{numTroops:03}\"\n",
    "    \n",
    "    # create folder if doesn't exist\n",
    "    if not os.path.exists(foldername):\n",
    "        os.makedirs(foldername)\n",
    "    \n",
    "    results = Parallel(n_jobs=-1)(\n",
    "    delayed(play_game)(i, j, player1, player2, numCastles, numTroops) \n",
    "    for i, player1 in enumerate(strategies) \n",
    "    for j, player2 in enumerate(strategies) if i != j\n",
    "    )\n",
    "    return\n",
    "\n",
    "# parameters = [(4, 100), (5, 100), (6, 100)]\n",
    "\n",
    "parameters = [(3, 3)]\n",
    "\n",
    "\n",
    "# Parallel execution across different sets of parameters\n",
    "Parallel(n_jobs=-1)(\n",
    "    delayed(tournament)(numCastles, numTroops) for numCastles, numTroops in parameters\n",
    ")"
   ]
  },
  {
   "cell_type": "code",
   "execution_count": 35,
   "id": "5d8eb8b0-1505-401b-88f7-c506d8f8a5d6",
   "metadata": {},
   "outputs": [
    {
     "name": "stdout",
     "output_type": "stream",
     "text": [
      "3\n"
     ]
    }
   ],
   "source": [
    "\n",
    "\n",
    "import json\n",
    "numTroops = 3\n",
    "for numCastles in [3]:\n",
    "    configs = list(sums(numCastles,numTroops))\n",
    "    print(numCastles)\n",
    "    # Saving the list to a JSON file\n",
    "    with open(f'configurations/C{numCastles:02}_T{numTroops:03}.json', 'w') as file:\n",
    "        json.dump(configs, file)"
   ]
  },
  {
   "cell_type": "code",
   "execution_count": null,
   "id": "b5221c8c-6f88-455f-994c-9f87e0885dcc",
   "metadata": {},
   "outputs": [],
   "source": [
    "for file in os.listdir('results/C04_T100/'):\n",
    "    parts = file.split('_')\n",
    "    player1_index, player2_index, result = int(parts[0]), int(parts[1]), int(parts[2].split('.')[0])\n",
    "    \n",
    "    with open(f'configurations/C{numCastles:02}_T{numTroops:03}.json', 'r') as file:\n",
    "        configs = json.load(file)\n",
    "\n",
    "    player1 = configs[player1_index]\n",
    "    player2 = configs[player2_index]\n",
    "\n",
    "    player1_encoding, player2_encoding = 0, 0\n",
    "    for i, allocation in enumerate(player1):\n",
    "        player1_encoding += allocation + 100 * i\n",
    "    \n",
    "    for i, allocation in enumerate(player2):\n",
    "        player2_encoding += allocation + 100 * i\n",
    "\n",
    "\n",
    "\n",
    "        "
   ]
  },
  {
   "cell_type": "code",
   "execution_count": 2,
   "id": "553691a2-04a4-4eb9-8710-8f42cfb2f317",
   "metadata": {},
   "outputs": [
    {
     "ename": "FileNotFoundError",
     "evalue": "[Errno 2] No such file or directory: 'configurations/C02_T010.json'",
     "output_type": "error",
     "traceback": [
      "\u001b[0;31m---------------------------------------------------------------------------\u001b[0m",
      "\u001b[0;31mFileNotFoundError\u001b[0m                         Traceback (most recent call last)",
      "Cell \u001b[0;32mIn[2], line 25\u001b[0m\n\u001b[1;32m     22\u001b[0m numCastles \u001b[38;5;241m=\u001b[39m \u001b[38;5;241m2\u001b[39m  \u001b[38;5;66;03m# Update as necessary\u001b[39;00m\n\u001b[1;32m     23\u001b[0m numTroops \u001b[38;5;241m=\u001b[39m \u001b[38;5;241m10\u001b[39m  \u001b[38;5;66;03m# Update as necessary\u001b[39;00m\n\u001b[0;32m---> 25\u001b[0m \u001b[38;5;28;01mwith\u001b[39;00m \u001b[38;5;28;43mopen\u001b[39;49m\u001b[43m(\u001b[49m\u001b[38;5;124;43mf\u001b[39;49m\u001b[38;5;124;43m'\u001b[39;49m\u001b[38;5;124;43mconfigurations/C\u001b[39;49m\u001b[38;5;132;43;01m{\u001b[39;49;00m\u001b[43mnumCastles\u001b[49m\u001b[38;5;132;43;01m:\u001b[39;49;00m\u001b[38;5;124;43m02\u001b[39;49m\u001b[38;5;132;43;01m}\u001b[39;49;00m\u001b[38;5;124;43m_T\u001b[39;49m\u001b[38;5;132;43;01m{\u001b[39;49;00m\u001b[43mnumTroops\u001b[49m\u001b[38;5;132;43;01m:\u001b[39;49;00m\u001b[38;5;124;43m03\u001b[39;49m\u001b[38;5;132;43;01m}\u001b[39;49;00m\u001b[38;5;124;43m.json\u001b[39;49m\u001b[38;5;124;43m'\u001b[39;49m\u001b[43m,\u001b[49m\u001b[43m \u001b[49m\u001b[38;5;124;43m'\u001b[39;49m\u001b[38;5;124;43mr\u001b[39;49m\u001b[38;5;124;43m'\u001b[39;49m\u001b[43m)\u001b[49m \u001b[38;5;28;01mas\u001b[39;00m file:\n\u001b[1;32m     26\u001b[0m     configs \u001b[38;5;241m=\u001b[39m json\u001b[38;5;241m.\u001b[39mload(file)\n\u001b[1;32m     28\u001b[0m \u001b[38;5;66;03m# Prepare data for plotting\u001b[39;00m\n",
      "File \u001b[0;32m/opt/conda/lib/python3.11/site-packages/IPython/core/interactiveshell.py:286\u001b[0m, in \u001b[0;36m_modified_open\u001b[0;34m(file, *args, **kwargs)\u001b[0m\n\u001b[1;32m    279\u001b[0m \u001b[38;5;28;01mif\u001b[39;00m file \u001b[38;5;129;01min\u001b[39;00m {\u001b[38;5;241m0\u001b[39m, \u001b[38;5;241m1\u001b[39m, \u001b[38;5;241m2\u001b[39m}:\n\u001b[1;32m    280\u001b[0m     \u001b[38;5;28;01mraise\u001b[39;00m \u001b[38;5;167;01mValueError\u001b[39;00m(\n\u001b[1;32m    281\u001b[0m         \u001b[38;5;124mf\u001b[39m\u001b[38;5;124m\"\u001b[39m\u001b[38;5;124mIPython won\u001b[39m\u001b[38;5;124m'\u001b[39m\u001b[38;5;124mt let you open fd=\u001b[39m\u001b[38;5;132;01m{\u001b[39;00mfile\u001b[38;5;132;01m}\u001b[39;00m\u001b[38;5;124m by default \u001b[39m\u001b[38;5;124m\"\u001b[39m\n\u001b[1;32m    282\u001b[0m         \u001b[38;5;124m\"\u001b[39m\u001b[38;5;124mas it is likely to crash IPython. If you know what you are doing, \u001b[39m\u001b[38;5;124m\"\u001b[39m\n\u001b[1;32m    283\u001b[0m         \u001b[38;5;124m\"\u001b[39m\u001b[38;5;124myou can use builtins\u001b[39m\u001b[38;5;124m'\u001b[39m\u001b[38;5;124m open.\u001b[39m\u001b[38;5;124m\"\u001b[39m\n\u001b[1;32m    284\u001b[0m     )\n\u001b[0;32m--> 286\u001b[0m \u001b[38;5;28;01mreturn\u001b[39;00m \u001b[43mio_open\u001b[49m\u001b[43m(\u001b[49m\u001b[43mfile\u001b[49m\u001b[43m,\u001b[49m\u001b[43m \u001b[49m\u001b[38;5;241;43m*\u001b[39;49m\u001b[43margs\u001b[49m\u001b[43m,\u001b[49m\u001b[43m \u001b[49m\u001b[38;5;241;43m*\u001b[39;49m\u001b[38;5;241;43m*\u001b[39;49m\u001b[43mkwargs\u001b[49m\u001b[43m)\u001b[49m\n",
      "\u001b[0;31mFileNotFoundError\u001b[0m: [Errno 2] No such file or directory: 'configurations/C02_T010.json'"
     ]
    }
   ],
   "source": [
    "import os\n",
    "import json\n",
    "import matplotlib.pyplot as plt\n",
    "\n",
    "# Function to calculate the encoding\n",
    "def calculate_encoding(player, numTroops):\n",
    "    # digit_count = []\n",
    "    encoding = 0\n",
    "    for i, allocation in enumerate(player):\n",
    "        # count=0\n",
    "        # n = allocation\n",
    "        # while(n>0):\n",
    "        #     count=count+1\n",
    "        #     n=n//10\n",
    "        # digit_count.append(count)\n",
    "        # encoding += allocation * 10 ** sum(digit_count)\n",
    "        # encoding += allocation * 10 ** i+1\n",
    "        encoding += allocation * (numTroops+1) ** i\n",
    "    return encoding\n",
    "\n",
    "# Read the configurations\n",
    "numCastles = 2  # Update as necessary\n",
    "numTroops = 10  # Update as necessary\n",
    "\n",
    "with open(f'configurations/C{numCastles:02}_T{numTroops:03}.json', 'r') as file:\n",
    "    configs = json.load(file)\n",
    "\n",
    "# Prepare data for plotting\n",
    "x_data, y_data, colors = [], [], []\n",
    "\n",
    "# Iterate over the files and collect data for plotting\n",
    "for file in os.listdir(f'results/C{numCastles:02}_T{numTroops:03}/'):\n",
    "    if '_' in file and file.endswith('.txt'):\n",
    "        parts = file.split('_')\n",
    "        player1_index, player2_index, result = int(parts[0]), int(parts[1]), int(parts[2].split('.')[0])\n",
    "    \n",
    "        player1 = configs[player1_index]\n",
    "        player2 = configs[player2_index]\n",
    "        # print(player1,player2)\n",
    "        player1_encoding = calculate_encoding(player1, numTroops)\n",
    "        player2_encoding = calculate_encoding(player2, numTroops)\n",
    "    \n",
    "        x_data.append(player1_encoding)\n",
    "        y_data.append(player2_encoding)\n",
    "        colors.append('green' if result == 1 else 'red' if result == -1 else 'gray')\n",
    "\n",
    "# Create the plot\n",
    "plt.scatter(x_data, y_data, c=colors)\n",
    "plt.xlabel(\"Player 1 Encoding\")\n",
    "plt.ylabel(\"Player 2 Encoding\")\n",
    "plt.title(\"Game Results\")\n",
    "plt.show()"
   ]
  },
  {
   "cell_type": "code",
   "execution_count": 34,
   "id": "baf69619-f7a6-40df-a24e-2ad51f309e63",
   "metadata": {},
   "outputs": [
    {
     "data": {
      "text/plain": [
       "12"
      ]
     },
     "execution_count": 34,
     "metadata": {},
     "output_type": "execute_result"
    }
   ],
   "source": [
    "calculate_encoding([0,3],3)"
   ]
  },
  {
   "cell_type": "code",
   "execution_count": 44,
   "id": "4ca3161a-5f8f-4cd1-aae3-e2ffe17df70b",
   "metadata": {},
   "outputs": [],
   "source": [
    "import os\n",
    "import networkx as nx\n",
    "import matplotlib.pyplot as plt\n",
    "import random\n",
    "\n",
    "numCastles = 2  # Update as necessary\n",
    "numTroops = 100  # Update as necessary\n",
    "\n",
    "# Create a directed graph\n",
    "G = nx.DiGraph()\n",
    "\n",
    "# Iterate over the files and add edges to the graph\n",
    "for file in os.listdir(f'results/C{numCastles:02}_T{numTroops:03}/'):\n",
    "    if '_' in file and file.endswith('.txt') and '(' not in file:\n",
    "        # flip = random.randint(0, 1)\n",
    "        # if (flip == 0):\n",
    "        #     continue\n",
    "        parts = file.split('_')\n",
    "        player1_index, player2_index, result = int(parts[0]), int(parts[1]), int(parts[2].split('.')[0])\n",
    "\n",
    "        # Add nodes and directed edges based on the result\n",
    "        if result == 1:\n",
    "            G.add_edge(player1_index, player2_index)\n",
    "        elif result == -1:\n",
    "            G.add_edge(player2_index, player1_index)\n",
    "        elif result == 0:\n",
    "            G.add_edge(player1_index, player2_index)\n",
    "            G.add_edge(player2_index, player1_index)\n",
    "\n",
    "# # Draw the graph\n",
    "# plt.figure(figsize=(10, 8))\n",
    "# nx.draw(G, with_labels=True, node_color='lightblue', edge_color='gray', node_size=2000, arrowstyle='->', arrowsize=20)\n",
    "# plt.title(\"Graph of Game Results\")\n",
    "# plt.show()\n",
    "\n",
    "\n"
   ]
  },
  {
   "cell_type": "code",
   "execution_count": 50,
   "id": "d23cdd5c-02ea-47f9-904a-a24e07335797",
   "metadata": {},
   "outputs": [
    {
     "name": "stdout",
     "output_type": "stream",
     "text": [
      "Node 0 has PageRank: 0.0026981848914314197\n",
      "Node 1 has PageRank: 0.0027211170318680736\n",
      "Node 2 has PageRank: 0.002744477670084274\n",
      "Node 3 has PageRank: 0.0027682792671966812\n",
      "Node 4 has PageRank: 0.0027925347789146673\n",
      "Node 5 has PageRank: 0.0028172576805279874\n",
      "Node 6 has PageRank: 0.002842461993433202\n",
      "Node 7 has PageRank: 0.0028681623133109853\n",
      "Node 8 has PageRank: 0.002894373840075919\n",
      "Node 9 has PageRank: 0.00292111240973075\n",
      "Node 10 has PageRank: 0.0029483945282684724\n",
      "Node 11 has PageRank: 0.002976237407778098\n",
      "Node 12 has PageRank: 0.0030046590049237335\n",
      "Node 13 has PageRank: 0.003033678061981711\n",
      "Node 14 has PageRank: 0.003063314150637179\n",
      "Node 15 has PageRank: 0.0030935877187599613\n",
      "Node 16 has PageRank: 0.003124520140399785\n",
      "Node 17 has PageRank: 0.0031561337692634106\n",
      "Node 18 has PageRank: 0.003188451995961039\n",
      "Node 19 has PageRank: 0.0032214993093368765\n",
      "Node 20 has PageRank: 0.003255301362229256\n",
      "Node 21 has PageRank: 0.0032898850420396003\n",
      "Node 22 has PageRank: 0.003325278546527219\n",
      "Node 23 has PageRank: 0.003361511465288883\n",
      "Node 24 has PageRank: 0.003398614867428912\n",
      "Node 25 has PageRank: 0.0034366213959777523\n",
      "Node 26 has PageRank: 0.0034755653696754377\n",
      "Node 27 has PageRank: 0.0035154828928016836\n",
      "Node 28 has PageRank: 0.003556411973807712\n",
      "Node 29 has PageRank: 0.003598392653587218\n",
      "Node 30 has PageRank: 0.00364146714431647\n",
      "Node 31 has PageRank: 0.0036856799798978606\n",
      "Node 32 has PageRank: 0.0037310781791588523\n",
      "Node 33 has PageRank: 0.0037777114230913037\n",
      "Node 34 has PageRank: 0.003825632247566676\n",
      "Node 35 has PageRank: 0.0038748962531333867\n",
      "Node 36 has PageRank: 0.003925562333696555\n",
      "Node 37 has PageRank: 0.003977692926101221\n",
      "Node 38 has PageRank: 0.004031354282891932\n",
      "Node 39 has PageRank: 0.004086616770809417\n",
      "Node 40 has PageRank: 0.004143555197914558\n",
      "Node 41 has PageRank: 0.0042022491726080805\n",
      "Node 42 has PageRank: 0.004262783498249194\n",
      "Node 43 has PageRank: 0.004325248607577717\n",
      "Node 44 has PageRank: 0.0043897410417232\n",
      "Node 45 has PageRank: 0.004456363979255212\n",
      "Node 46 has PageRank: 0.0045252278215073445\n",
      "Node 47 has PageRank: 0.00459645084131364\n",
      "Node 48 has PageRank: 0.004670159903353428\n",
      "Node 49 has PageRank: 0.004746491265537933\n",
      "Node 50 has PageRank: 0.004825591472324011\n",
      "Node 51 has PageRank: 0.004907618352549459\n",
      "Node 52 has PageRank: 0.004992742136402046\n",
      "Node 53 has PageRank: 0.005081146708524203\n",
      "Node 54 has PageRank: 0.005173031017095052\n",
      "Node 55 has PageRank: 0.0052686106621176\n",
      "Node 56 has PageRank: 0.005368119690190963\n",
      "Node 57 has PageRank: 0.005471812627914628\n",
      "Node 58 has PageRank: 0.005579966791940613\n",
      "Node 59 has PageRank: 0.005692884920794884\n",
      "Node 60 has PageRank: 0.005810898182228765\n",
      "Node 61 has PageRank: 0.005934369620411848\n",
      "Node 62 has PageRank: 0.006063698120223014\n",
      "Node 63 has PageRank: 0.006199322981856194\n",
      "Node 64 has PageRank: 0.006341729218734997\n",
      "Node 65 has PageRank: 0.00649145371636997\n",
      "Node 66 has PageRank: 0.00664909242066229\n",
      "Node 67 has PageRank: 0.006815308763063157\n",
      "Node 68 has PageRank: 0.006990843579337595\n",
      "Node 69 has PageRank: 0.007176526841666468\n",
      "Node 70 has PageRank: 0.007373291604787174\n",
      "Node 71 has PageRank: 0.007582190671725738\n",
      "Node 72 has PageRank: 0.007804416621523783\n",
      "Node 73 has PageRank: 0.008041326021469966\n",
      "Node 74 has PageRank: 0.00829446888548727\n",
      "Node 75 has PageRank: 0.008565624760870628\n",
      "Node 76 has PageRank: 0.00885684725958645\n",
      "Node 77 has PageRank: 0.009170519444408415\n",
      "Node 78 has PageRank: 0.009509423302814618\n",
      "Node 79 has PageRank: 0.009876827695155726\n",
      "Node 80 has PageRank: 0.01027660080334656\n",
      "Node 81 has PageRank: 0.010713355471669937\n",
      "Node 82 has PageRank: 0.011192639298375544\n",
      "Node 83 has PageRank: 0.011721186508518387\n",
      "Node 84 has PageRank: 0.01230725650261786\n",
      "Node 85 has PageRank: 0.0129610961897286\n",
      "Node 86 has PageRank: 0.013695582633818029\n",
      "Node 87 has PageRank: 0.014527134239088718\n",
      "Node 88 has PageRank: 0.015477031974822237\n",
      "Node 89 has PageRank: 0.01657338470552339\n",
      "Node 90 has PageRank: 0.017854139730141983\n",
      "Node 91 has PageRank: 0.019371854500318274\n",
      "Node 92 has PageRank: 0.02120156997071278\n",
      "Node 93 has PageRank: 0.023454441347648947\n",
      "Node 94 has PageRank: 0.026302760233672336\n",
      "Node 95 has PageRank: 0.030029373244946114\n",
      "Node 96 has PageRank: 0.03513491991546043\n",
      "Node 97 has PageRank: 0.04260190406904188\n",
      "Node 98 has PageRank: 0.05467369574498339\n",
      "Node 99 has PageRank: 0.0779120655955716\n",
      "Node 100 has PageRank: 0.1441408368248035\n"
     ]
    }
   ],
   "source": [
    "# Calculate PageRank\n",
    "pagerank = nx.pagerank(G)\n",
    "\n",
    "# Sort nodes by PageRank\n",
    "sorted_pagerank = sorted(pagerank.items(), key=lambda x: x[1], reverse=False)\n",
    "\n",
    "# Print the sorted PageRank\n",
    "for node, rank in sorted_pagerank:\n",
    "    print(f\"Node {node} has PageRank: {rank}\")"
   ]
  },
  {
   "cell_type": "code",
   "execution_count": 10,
   "id": "2431c18e-716b-4745-976b-93fce2f20337",
   "metadata": {},
   "outputs": [
    {
     "name": "stdout",
     "output_type": "stream",
     "text": [
      "3106841\n"
     ]
    }
   ],
   "source": [
    "# Read the configurations\n",
    "numCastles = 3 # Update as necessary\n",
    "numTroops = 100  # Update as necessary\n",
    "\n",
    "# Iterate over the files and collect data for plotting\n",
    "count =0\n",
    "for file in os.listdir(f'results/C{numCastles:02}_T{numTroops:03}/'):\n",
    "    count+=1\n",
    "print(count)"
   ]
  },
  {
   "cell_type": "code",
   "execution_count": 48,
   "id": "7d01a147-f76e-490a-bb7d-1f411851dcd1",
   "metadata": {},
   "outputs": [],
   "source": [
    "a = list(sums(2,100))"
   ]
  },
  {
   "cell_type": "code",
   "execution_count": 51,
   "id": "86b3d2da-34c1-487f-9eb4-56d9c0d2aac6",
   "metadata": {},
   "outputs": [
    {
     "data": {
      "text/plain": [
       "(0, 100)"
      ]
     },
     "execution_count": 51,
     "metadata": {},
     "output_type": "execute_result"
    }
   ],
   "source": [
    "a[0]"
   ]
  },
  {
   "cell_type": "code",
   "execution_count": 3,
   "id": "9cf78646-775c-42e1-9874-a04827dc40c8",
   "metadata": {},
   "outputs": [
    {
     "data": {
      "text/plain": [
       "31276276201"
      ]
     },
     "execution_count": 3,
     "metadata": {},
     "output_type": "execute_result"
    }
   ],
   "source": [
    "176851*176851"
   ]
  },
  {
   "cell_type": "code",
   "execution_count": 4,
   "id": "dbec565e-3758-467a-aeff-f88a86991b18",
   "metadata": {},
   "outputs": [
    {
     "data": {
      "text/plain": [
       "7.860312347290874e-05"
      ]
     },
     "execution_count": 4,
     "metadata": {},
     "output_type": "execute_result"
    }
   ],
   "source": [
    "2458413/31276276201"
   ]
  },
  {
   "cell_type": "code",
   "execution_count": 7,
   "id": "f56018ce-77cf-4c44-88d4-f10277f003fc",
   "metadata": {},
   "outputs": [
    {
     "data": {
      "text/plain": [
       "26532801"
      ]
     },
     "execution_count": 7,
     "metadata": {},
     "output_type": "execute_result"
    }
   ],
   "source": [
    "5151*5151"
   ]
  },
  {
   "cell_type": "code",
   "execution_count": 12,
   "id": "2d211556-d9f7-4f19-ad59-2893538ce169",
   "metadata": {},
   "outputs": [
    {
     "data": {
      "text/plain": [
       "12722.14074730324"
      ]
     },
     "execution_count": 12,
     "metadata": {},
     "output_type": "execute_result"
    }
   ],
   "source": [
    "100/(7.860312347290874e-05*100)"
   ]
  },
  {
   "cell_type": "code",
   "execution_count": 13,
   "id": "9e726bb7-9215-44b1-98c7-d349059a6a00",
   "metadata": {},
   "outputs": [
    {
     "data": {
      "text/plain": [
       "25444.28149460648"
      ]
     },
     "execution_count": 13,
     "metadata": {},
     "output_type": "execute_result"
    }
   ],
   "source": [
    "2*12722.14074730324"
   ]
  },
  {
   "cell_type": "code",
   "execution_count": 14,
   "id": "54349e40-c156-4de1-abd2-072b903a9152",
   "metadata": {},
   "outputs": [
    {
     "data": {
      "text/plain": [
       "1060.1783956086033"
      ]
     },
     "execution_count": 14,
     "metadata": {},
     "output_type": "execute_result"
    }
   ],
   "source": [
    "25444.28149460648/24"
   ]
  },
  {
   "cell_type": "code",
   "execution_count": 15,
   "id": "ea80fb7b-f036-4b60-980f-16911fd12986",
   "metadata": {},
   "outputs": [
    {
     "data": {
      "text/plain": [
       "151.45405651551476"
      ]
     },
     "execution_count": 15,
     "metadata": {},
     "output_type": "execute_result"
    }
   ],
   "source": [
    "1060.1783956086033/7"
   ]
  },
  {
   "cell_type": "code",
   "execution_count": null,
   "id": "7099e70d-5f7e-470c-8a98-b74dd8a46acb",
   "metadata": {},
   "outputs": [],
   "source": [
    "151.45405651551476/"
   ]
  },
  {
   "cell_type": "code",
   "execution_count": 38,
   "id": "d96882d6-26e1-4a65-9c87-f7e18cc1d5da",
   "metadata": {},
   "outputs": [
    {
     "ename": "SyntaxError",
     "evalue": "invalid syntax (1207569945.py, line 1)",
     "output_type": "error",
     "traceback": [
      "\u001b[0;36m  Cell \u001b[0;32mIn[38], line 1\u001b[0;36m\u001b[0m\n\u001b[0;31m    start to look at 3 trenches, start to ramp up the number of soldiers, ask what are the patterns (visually?),\u001b[0m\n\u001b[0m          ^\u001b[0m\n\u001b[0;31mSyntaxError\u001b[0m\u001b[0;31m:\u001b[0m invalid syntax\n"
     ]
    }
   ],
   "source": [
    "start to look at 3 trenches, start to ramp up the number of soldiers, ask what are the patterns (visually?), \n",
    "\n",
    "generate and look at your data (as much as humanly possible), push and pull of total you can generate versus realistic, \n",
    "\n",
    "roughly 8 minutes to go through 4 million data points, 2 minutes to do 1 million data points, if we wanted to do 10*10\n",
    "figure out with youngsu how to solve everything in 12 days, it seems like we can do 10x10 in 12 days, get all of that data and generate the encoding plot"
   ]
  },
  {
   "cell_type": "code",
   "execution_count": 39,
   "id": "1e4fd671-12f8-4f99-84be-4773f1e4f4c8",
   "metadata": {},
   "outputs": [
    {
     "data": {
      "text/plain": [
       "92378"
      ]
     },
     "execution_count": 39,
     "metadata": {},
     "output_type": "execute_result"
    }
   ],
   "source": [
    "len(list(sums(10,10)))"
   ]
  },
  {
   "cell_type": "code",
   "execution_count": 40,
   "id": "75c4bb96-9a86-47dc-a889-596f4560ce0b",
   "metadata": {},
   "outputs": [
    {
     "data": {
      "text/plain": [
       "8533694884"
      ]
     },
     "execution_count": 40,
     "metadata": {},
     "output_type": "execute_result"
    }
   ],
   "source": [
    "92378**2"
   ]
  },
  {
   "cell_type": "code",
   "execution_count": 43,
   "id": "c1518253-7695-4604-b041-22d63c3c412d",
   "metadata": {},
   "outputs": [
    {
     "data": {
      "text/plain": [
       "11.852354005555556"
      ]
     },
     "execution_count": 43,
     "metadata": {},
     "output_type": "execute_result"
    }
   ],
   "source": [
    "(((8533694884/10**6)*2)/60)/24"
   ]
  },
  {
   "cell_type": "code",
   "execution_count": 1,
   "id": "0556dabb-e5a2-47ce-86bd-a7f9c43a2621",
   "metadata": {},
   "outputs": [
    {
     "ename": "ModuleNotFoundError",
     "evalue": "No module named 'matplotlib'",
     "output_type": "error",
     "traceback": [
      "\u001b[0;31m---------------------------------------------------------------------------\u001b[0m",
      "\u001b[0;31mModuleNotFoundError\u001b[0m                       Traceback (most recent call last)",
      "Cell \u001b[0;32mIn[1], line 3\u001b[0m\n\u001b[1;32m      1\u001b[0m \u001b[38;5;28;01mimport\u001b[39;00m \u001b[38;5;21;01mos\u001b[39;00m\n\u001b[1;32m      2\u001b[0m \u001b[38;5;28;01mimport\u001b[39;00m \u001b[38;5;21;01mjson\u001b[39;00m\n\u001b[0;32m----> 3\u001b[0m \u001b[38;5;28;01mimport\u001b[39;00m \u001b[38;5;21;01mmatplotlib\u001b[39;00m\u001b[38;5;21;01m.\u001b[39;00m\u001b[38;5;21;01mpyplot\u001b[39;00m \u001b[38;5;28;01mas\u001b[39;00m \u001b[38;5;21;01mplt\u001b[39;00m\n\u001b[1;32m      5\u001b[0m \u001b[38;5;66;03m# Function to calculate the encoding\u001b[39;00m\n\u001b[1;32m      6\u001b[0m \u001b[38;5;28;01mdef\u001b[39;00m \u001b[38;5;21mcalculate_encoding\u001b[39m(player, numTroops):\n",
      "\u001b[0;31mModuleNotFoundError\u001b[0m: No module named 'matplotlib'"
     ]
    }
   ],
   "source": [
    "import os\n",
    "import json\n",
    "import matplotlib.pyplot as plt\n",
    "\n",
    "# Function to calculate the encoding\n",
    "def calculate_encoding(player, numTroops):\n",
    "    encoding = 0\n",
    "    for i, allocation in enumerate(player):\n",
    "        encoding += allocation * (numTroops + 1) ** i\n",
    "    return encoding\n",
    "\n",
    "# Read the strategies from configurations file\n",
    "def read_strategies(numCastles, numTroops):\n",
    "    with open(f'configurations/C{numCastles:02}_T{numTroops:03}.txt', 'r') as file:\n",
    "        strategies = [list(map(int, line.strip().split(','))) for line in file]\n",
    "    return strategies\n",
    "\n",
    "numCastles = 3  # Adjust as necessary\n",
    "numTroops = 100  # Adjust as necessary\n",
    "strategies = read_strategies(numCastles, numTroops)\n",
    "\n",
    "# Prepare data for plotting\n",
    "results_matrix = [[0 for _ in range(len(strategies))] for _ in range(len(strategies))]\n",
    "\n",
    "# Iterate over the files and update the results matrix\n",
    "for filename in os.listdir(f'results/C{numCastles:02}_T{numTroops:03}/'):\n",
    "    if '_' in filename and filename.endswith('.txt'):\n",
    "        parts = filename.rstrip('.txt').split('_')\n",
    "        i, j, result = int(parts[0]), int(parts[1]), int(parts[2])\n",
    "        results_matrix[i][j] = result\n",
    "        results_matrix[j][i] = - result  # Make it symmetric\n",
    "\n",
    "# Plotting\n",
    "plt.figure(figsize=(10, 10))\n",
    "for i, row in enumerate(results_matrix):\n",
    "    for j, result in enumerate(row):\n",
    "        if result != 0:  # Only plot non-zero results\n",
    "            color = 'green' if result == 1 else 'red' if result == -1 else 'gray'\n",
    "            plt.scatter(i, j, color=color)\n",
    "\n",
    "plt.xlabel(\"Strategy Index\")\n",
    "plt.ylabel(\"Strategy Index\")\n",
    "plt.title(\"Game Outcomes\")\n",
    "plt.grid(True)\n",
    "plt.show()\n"
   ]
  },
  {
   "cell_type": "code",
   "execution_count": null,
   "id": "a38a9f5b-b6ee-4886-9b40-9f3c2ce95303",
   "metadata": {},
   "outputs": [],
   "source": [
    "import os\n",
    "import matplotlib.pyplot as plt\n",
    "\n",
    "# Function to calculate the encoding\n",
    "def calculate_encoding(player, numTroops):\n",
    "    encoding = 0\n",
    "    for i, allocation in enumerate(player):\n",
    "        encoding += allocation * (numTroops + 1) ** i\n",
    "    return encoding\n",
    "\n",
    "# Read the strategies from configurations file\n",
    "def read_strategies(numCastles, numTroops):\n",
    "    with open(f'../data3/configurations/C{numCastles:02}_T{numTroops:03}.txt', 'r') as file:\n",
    "        strategies = [list(map(int, line.strip().split(','))) for line in file]\n",
    "    return strategies\n",
    "\n",
    "castles = [2,3]\n",
    "troops = [5, 10, 20, 30, 40]\n",
    "\n",
    "# Create output directory\n",
    "output_dir = \"plots\"\n",
    "os.makedirs(output_dir, exist_ok=True)\n",
    "\n",
    "for numCastles in castles:\n",
    "    for numTroops in troops:\n",
    "        strategies = read_strategies(numCastles, numTroops)\n",
    "        results_matrix = [[0 for _ in range(len(strategies))] for _ in range(len(strategies))]\n",
    "    \n",
    "        # Iterate over the files and update the results matrix\n",
    "        for filename in os.listdir(f'results/C{numCastles:02}_T{numTroops:03}/'):\n",
    "            if '_' in filename and filename.endswith('.txt'):\n",
    "                parts = filename.rstrip('.txt').split('_')\n",
    "                i, j, result = int(parts[0]), int(parts[1]), int(parts[2])\n",
    "                results_matrix[i][j] = result\n",
    "                results_matrix[j][i] = -result  # Adjust to make it symmetric if necessary\n",
    "    \n",
    "        # Plotting\n",
    "        plt.figure(figsize=(10, 10))\n",
    "        for i, row in enumerate(results_matrix):\n",
    "            for j, result in enumerate(row):\n",
    "                if result != 0:  # Only plot non-zero results\n",
    "                    color = 'green' if result == 1 else 'red' if result == -1 else 'gray'\n",
    "                    plt.scatter(i, j, color=color)\n",
    "    \n",
    "        plt.xlabel(\"Strategy Index\")\n",
    "        plt.ylabel(\"Strategy Index\")\n",
    "        plt.title(f\"Game Outcomes for {numCastles} Castles and {numTroops} Troops\")\n",
    "        plt.grid(True)\n",
    "    \n",
    "        # Save the figure\n",
    "        plt.savefig(f\"{output_dir}/game_outcomes_c{numCastles}_t{numTroops}.png\", dpi=300)\n",
    "        plt.close()  # Close the plot to free up memory\n"
   ]
  },
  {
   "cell_type": "code",
   "execution_count": null,
   "id": "4d1dc63c-8bb9-4199-a572-e16483cc5067",
   "metadata": {},
   "outputs": [],
   "source": []
  }
 ],
 "metadata": {
  "kernelspec": {
   "display_name": "Python 3 (ipykernel)",
   "language": "python",
   "name": "python3"
  },
  "language_info": {
   "codemirror_mode": {
    "name": "ipython",
    "version": 3
   },
   "file_extension": ".py",
   "mimetype": "text/x-python",
   "name": "python",
   "nbconvert_exporter": "python",
   "pygments_lexer": "ipython3",
   "version": "3.11.5"
  }
 },
 "nbformat": 4,
 "nbformat_minor": 5
}
